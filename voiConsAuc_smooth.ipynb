{
 "cells": [
  {
   "cell_type": "code",
   "execution_count": 1,
   "metadata": {
    "collapsed": false
   },
   "outputs": [
    {
     "name": "stderr",
     "output_type": "stream",
     "text": [
      "INFO: Precompiling module Loess.\n"
     ]
    },
    {
     "data": {
      "text/plain": [
       "evsi_plot (generic function with 3 methods)"
      ]
     },
     "execution_count": 1,
     "metadata": {},
     "output_type": "execute_result"
    }
   ],
   "source": [
    "using Loess\n",
    "include(\"voiConsAuc.jl\")"
   ]
  },
  {
   "cell_type": "code",
   "execution_count": null,
   "metadata": {
    "collapsed": false
   },
   "outputs": [],
   "source": [
    "function evsi3asset(n = 1, μ = [0, 0, 0], σ = [1, 1, 1])\n",
    "    function g(p1) \n",
    "        f(p2) = evsi_sim(μ, σ, [n * p1, n * (p1 * p2), n * (1 - p1 - (p1 * p2))])\n",
    "        vcat(map(f, 1:.1:0)...)\n",
    "    end\n",
    "    hcat(map(g, 1:.1:0)...)\n",
    "end"
   ]
  },
  {
   "cell_type": "code",
   "execution_count": null,
   "metadata": {
    "collapsed": false
   },
   "outputs": [],
   "source": [
    "evsi_sim([0, 0, 0], [1, 1, 1], [1//3, 1//3, 1//3])"
   ]
  },
  {
   "cell_type": "code",
   "execution_count": null,
   "metadata": {
    "collapsed": false
   },
   "outputs": [],
   "source": [
    "evsi_anp(p = .5, n = 50, μ = [0, 0], σ = [1, 1]) = evsi_an(μ, σ, [n * p, n * (1 - p)])\n",
    "evsi_simp(p = .5, n = 50, μ = [0, 0], σ = [1, 1]) = evsi_sim(μ, σ, [n * p, n * (1 - p)])"
   ]
  },
  {
   "cell_type": "code",
   "execution_count": null,
   "metadata": {
    "collapsed": false
   },
   "outputs": [],
   "source": [
    "y = 0:.01:1"
   ]
  },
  {
   "cell_type": "code",
   "execution_count": null,
   "metadata": {
    "collapsed": false
   },
   "outputs": [],
   "source": [
    "x_an = map(evsi_anp, y)\n",
    "y[indmax(x_an)]"
   ]
  },
  {
   "cell_type": "code",
   "execution_count": null,
   "metadata": {
    "collapsed": false
   },
   "outputs": [],
   "source": [
    "x_sim = map(evsi_simp, y)\n",
    "y[indmax(x_an)]"
   ]
  },
  {
   "cell_type": "code",
   "execution_count": null,
   "metadata": {
    "collapsed": false
   },
   "outputs": [],
   "source": [
    "x_sim_s = Loess.predict(loess(y, map(evsi_simp, y)), y)"
   ]
  }
 ],
 "metadata": {
  "kernelspec": {
   "display_name": "Julia 0.5.0",
   "language": "julia",
   "name": "julia-0.5"
  },
  "language_info": {
   "file_extension": ".jl",
   "mimetype": "application/julia",
   "name": "julia",
   "version": "0.5.0"
  }
 },
 "nbformat": 4,
 "nbformat_minor": 0
}
