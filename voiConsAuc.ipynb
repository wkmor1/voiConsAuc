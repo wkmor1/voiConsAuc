{
 "cells": [
  {
   "cell_type": "code",
   "execution_count": 2,
   "metadata": {
    "collapsed": false
   },
   "outputs": [
    {
     "data": {
      "text/plain": [
       "evsi_plot (generic function with 3 methods)"
      ]
     },
     "execution_count": 2,
     "metadata": {},
     "output_type": "execute_result"
    }
   ],
   "source": [
    "include(\"voiConsAuc.jl\")"
   ]
  },
  {
   "cell_type": "code",
   "execution_count": 3,
   "metadata": {
    "collapsed": false
   },
   "outputs": [
    {
     "data": {
      "text/plain": [
       "es (generic function with 3 methods)"
      ]
     },
     "execution_count": 3,
     "metadata": {},
     "output_type": "execute_result"
    }
   ],
   "source": [
    "function es(μ = [0, 0], σ = [1, 1])\n",
    "    function g(n)\n",
    "        f(p) = evsi_sim(μ, σ, [n * p, n * (1 - p)], nsims = 100000)\n",
    "        vcat(map(f, 1:-.01:0)...)\n",
    "    end\n",
    "    hcat(map(g, exp(collect(linspace(log(1), log(50), 101))))...)\n",
    "end"
   ]
  },
  {
   "cell_type": "code",
   "execution_count": 4,
   "metadata": {
    "collapsed": false
   },
   "outputs": [
    {
     "data": {
      "text/plain": [
       "101x101 Array{Float64,2}:\n",
       " 0.278762  0.285481  0.283648  0.287578  …  0.393385  0.394209  0.397694\n",
       " 0.285904  0.285447  0.288884  0.292556     0.451202  0.456243  0.459097\n",
       " 0.289782  0.287031  0.294505  0.298489     0.483687  0.483495  0.487337\n",
       " 0.279098  0.290551  0.291719  0.289424     0.497177  0.501509  0.503215\n",
       " 0.283744  0.292489  0.298435  0.301355     0.511045  0.509361  0.515337\n",
       " 0.293904  0.291569  0.301181  0.302129  …  0.514212  0.520872  0.517178\n",
       " 0.294383  0.293472  0.301306  0.302444     0.52427   0.524195  0.52146 \n",
       " 0.295277  0.298837  0.302113  0.306311     0.528252  0.528976  0.526048\n",
       " 0.298799  0.300173  0.302228  0.308829     0.529678  0.533603  0.533201\n",
       " 0.298042  0.300867  0.311922  0.304272     0.532201  0.534054  0.536091\n",
       " 0.295844  0.305417  0.307951  0.312276  …  0.538258  0.534027  0.538195\n",
       " 0.299735  0.304665  0.304188  0.307608     0.538784  0.540261  0.538102\n",
       " 0.299889  0.301376  0.315202  0.308104     0.534745  0.539705  0.5406  \n",
       " ⋮                                       ⋱                      ⋮       \n",
       " 0.30063   0.306197  0.3062    0.309733     0.534216  0.53883   0.538973\n",
       " 0.302739  0.301155  0.305892  0.311988  …  0.535559  0.536248  0.538311\n",
       " 0.303096  0.303183  0.301785  0.304499     0.535511  0.528776  0.533206\n",
       " 0.294169  0.307906  0.308358  0.310682     0.530856  0.528987  0.529818\n",
       " 0.295645  0.300248  0.304824  0.309738     0.527773  0.529494  0.527689\n",
       " 0.291828  0.294246  0.302216  0.303642     0.518477  0.523828  0.523567\n",
       " 0.289685  0.294767  0.298316  0.306004  …  0.513285  0.516651  0.520429\n",
       " 0.292893  0.299746  0.297037  0.294133     0.50543   0.509541  0.510198\n",
       " 0.283993  0.289748  0.293264  0.293801     0.50233   0.497895  0.499981\n",
       " 0.28883   0.289862  0.291856  0.290538     0.480297  0.485946  0.481389\n",
       " 0.288245  0.284125  0.28891   0.290197     0.457562  0.456718  0.454303\n",
       " 0.279319  0.283277  0.28612   0.289926  …  0.393851  0.387656  0.395416"
      ]
     },
     "execution_count": 4,
     "metadata": {},
     "output_type": "execute_result"
    }
   ],
   "source": [
    "x = es([0, 0], [1, 1])"
   ]
  },
  {
   "cell_type": "code",
   "execution_count": 17,
   "metadata": {
    "collapsed": false
   },
   "outputs": [
    {
     "data": {
      "text/plain": [
       "RCall.RObject{RCall.IntSxp}\n",
       "null device \n",
       "          1 \n"
      ]
     },
     "execution_count": 17,
     "metadata": {},
     "output_type": "execute_result"
    }
   ],
   "source": [
    "R\"\n",
    "    library(raster)\n",
    "    library(mgcv)\n",
    "    r = $x\n",
    "    r = \n",
    "      data.frame(\n",
    "        x = rep(seq_len(ncol(r)), each = nrow(r)),\n",
    "        y = rep(seq_len(nrow(r)), times = ncol(r)),\n",
    "        z = c(r)\n",
    "      )\n",
    "    r = gam(z ~ te(x, y), data = r)\n",
    "    r = matrix(fitted(r), ncol = 101)\n",
    "    #r = t(t(r) / apply(r, 2, max))\n",
    "    r = raster(r)\n",
    "    png('plot.png')\n",
    "    plot(r, asp = NA, las = 1, xaxt = 'n')\n",
    "    contour(r, add = TRUE)\n",
    "    axis(1, at = 0:5 / 5, label = round(exp(seq(log(1), log(50), length.out = 6))))\n",
    "    dev.off()\n",
    "\""
   ]
  }
 ],
 "metadata": {
  "kernelspec": {
   "display_name": "Julia 0.4.6",
   "language": "julia",
   "name": "julia-0.4"
  },
  "language_info": {
   "file_extension": ".jl",
   "mimetype": "application/julia",
   "name": "julia",
   "version": "0.4.6"
  }
 },
 "nbformat": 4,
 "nbformat_minor": 0
}
